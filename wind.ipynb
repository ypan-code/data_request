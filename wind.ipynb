{
 "cells": [
  {
   "attachments": {},
   "cell_type": "markdown",
   "metadata": {},
   "source": [
    "# 一些基于万得接口的基础设施建设\n",
    "- 阅读万得接口安装说明并尝试导入万得包\n",
    "- 个股时序数据请求\n",
    "- 截面股池数据请求"
   ]
  },
  {
   "cell_type": "code",
   "execution_count": 58,
   "metadata": {},
   "outputs": [],
   "source": [
    "from WindPy import *\n",
    "import pandas as pd"
   ]
  },
  {
   "attachments": {},
   "cell_type": "markdown",
   "metadata": {},
   "source": [
    "## 个股时序数据"
   ]
  },
  {
   "cell_type": "code",
   "execution_count": 55,
   "metadata": {},
   "outputs": [],
   "source": [
    "def stock_time_sequence(stock, fields, start, end, interval = 'day', PriceAdj = 'QFQ'):\n",
    "    \"\"\"\n",
    "    obtain time sequence data of a SINGLE stock! \n",
    "\n",
    "    @param\n",
    "    ------\n",
    "        stock: str\n",
    "            a single stock, not a list\n",
    "        fields: str or iterable object of str\n",
    "            fields of interest, for details, check wind api documentation\n",
    "        start: str\n",
    "            starting time, e.g., '2020-01-01' or '2020-01-01 9:30:00'\n",
    "        end: str\n",
    "            ending time\n",
    "        interval: str\n",
    "            either 'day' or 'min'\n",
    "        PriceAdj: str\n",
    "            method to adjust price, default 'QFQ'\n",
    "        \n",
    "    @return\n",
    "        df: pd.DataFrame\n",
    "            the index is time, columns are elements in the parameter \"fields\"\n",
    "    \"\"\"\n",
    "    try:\n",
    "        w.start()\n",
    "    except:\n",
    "        return \"Connection Error! Make sure you log in your Wind account with account name and password instead of qrcode.\"\n",
    "    if interval == 'day':\n",
    "        df = w.wsd(stock, fields, start, end, \"PriceAdj=F\", usedf = True)[1]\n",
    "    elif interval == 'min':\n",
    "        df = w.wsi(stock, fields, start, end, \"PriceAdj=F\", usedf = True)[1]\n",
    "    return df"
   ]
  },
  {
   "attachments": {},
   "cell_type": "markdown",
   "metadata": {},
   "source": [
    "以下为示例"
   ]
  },
  {
   "cell_type": "code",
   "execution_count": 57,
   "metadata": {},
   "outputs": [
    {
     "name": "stdout",
     "output_type": "stream",
     "text": [
      "Welcome to use Wind Quant API for Python (WindPy)!\n",
      "\n",
      "COPYRIGHT (C) 2021 WIND INFORMATION CO., LTD. ALL RIGHTS RESERVED.\n",
      "IN NO CIRCUMSTANCE SHALL WIND BE RESPONSIBLE FOR ANY DAMAGES OR LOSSES CAUSED BY USING WIND QUANT API FOR Python.\n"
     ]
    },
    {
     "data": {
      "text/html": [
       "<div>\n",
       "<style scoped>\n",
       "    .dataframe tbody tr th:only-of-type {\n",
       "        vertical-align: middle;\n",
       "    }\n",
       "\n",
       "    .dataframe tbody tr th {\n",
       "        vertical-align: top;\n",
       "    }\n",
       "\n",
       "    .dataframe thead th {\n",
       "        text-align: right;\n",
       "    }\n",
       "</style>\n",
       "<table border=\"1\" class=\"dataframe\">\n",
       "  <thead>\n",
       "    <tr style=\"text-align: right;\">\n",
       "      <th></th>\n",
       "      <th>OPEN</th>\n",
       "      <th>CLOSE</th>\n",
       "      <th>LOW</th>\n",
       "      <th>HIGH</th>\n",
       "      <th>VOLUME</th>\n",
       "    </tr>\n",
       "  </thead>\n",
       "  <tbody>\n",
       "    <tr>\n",
       "      <th>2021-01-04</th>\n",
       "      <td>32.393027</td>\n",
       "      <td>33.698564</td>\n",
       "      <td>32.118177</td>\n",
       "      <td>33.845805</td>\n",
       "      <td>129647346.0</td>\n",
       "    </tr>\n",
       "    <tr>\n",
       "      <th>2021-01-05</th>\n",
       "      <td>33.355002</td>\n",
       "      <td>33.875253</td>\n",
       "      <td>33.031071</td>\n",
       "      <td>34.483850</td>\n",
       "      <td>125476595.0</td>\n",
       "    </tr>\n",
       "    <tr>\n",
       "      <th>2021-01-06</th>\n",
       "      <td>34.159919</td>\n",
       "      <td>33.011439</td>\n",
       "      <td>32.707141</td>\n",
       "      <td>34.228632</td>\n",
       "      <td>91774305.0</td>\n",
       "    </tr>\n",
       "    <tr>\n",
       "      <th>2021-01-07</th>\n",
       "      <td>32.687509</td>\n",
       "      <td>32.069097</td>\n",
       "      <td>31.617558</td>\n",
       "      <td>32.697325</td>\n",
       "      <td>92104324.0</td>\n",
       "    </tr>\n",
       "    <tr>\n",
       "      <th>2021-01-08</th>\n",
       "      <td>31.951304</td>\n",
       "      <td>33.276473</td>\n",
       "      <td>31.784431</td>\n",
       "      <td>34.405321</td>\n",
       "      <td>133819219.0</td>\n",
       "    </tr>\n",
       "  </tbody>\n",
       "</table>\n",
       "</div>"
      ],
      "text/plain": [
       "                 OPEN      CLOSE        LOW       HIGH       VOLUME\n",
       "2021-01-04  32.393027  33.698564  32.118177  33.845805  129647346.0\n",
       "2021-01-05  33.355002  33.875253  33.031071  34.483850  125476595.0\n",
       "2021-01-06  34.159919  33.011439  32.707141  34.228632   91774305.0\n",
       "2021-01-07  32.687509  32.069097  31.617558  32.697325   92104324.0\n",
       "2021-01-08  31.951304  33.276473  31.784431  34.405321  133819219.0"
      ]
     },
     "execution_count": 57,
     "metadata": {},
     "output_type": "execute_result"
    }
   ],
   "source": [
    "df = stock_time_sequence('000063.SZ', [\"open\", \"close\", \"low\", \"high\", \"volume\"], '2021-01-01', '2023-04-07')\n",
    "df.head()"
   ]
  }
 ],
 "metadata": {
  "kernelspec": {
   "display_name": "base",
   "language": "python",
   "name": "python3"
  },
  "language_info": {
   "codemirror_mode": {
    "name": "ipython",
    "version": 3
   },
   "file_extension": ".py",
   "mimetype": "text/x-python",
   "name": "python",
   "nbconvert_exporter": "python",
   "pygments_lexer": "ipython3",
   "version": "3.8.5"
  },
  "orig_nbformat": 4
 },
 "nbformat": 4,
 "nbformat_minor": 2
}
